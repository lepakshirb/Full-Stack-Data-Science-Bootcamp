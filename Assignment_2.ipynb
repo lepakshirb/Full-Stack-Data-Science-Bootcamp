{
 "cells": [
  {
   "cell_type": "markdown",
   "id": "5ad54f3f",
   "metadata": {},
   "source": [
    "# 1.What are the two values of the Boolean data type? How do you write them?\n",
    "\n",
    "True and False "
   ]
  },
  {
   "cell_type": "markdown",
   "id": "05858ef3",
   "metadata": {},
   "source": [
    "# 2. What are the three different types of Boolean operators?\n",
    "\n",
    "and, or, not\n"
   ]
  },
  {
   "cell_type": "code",
   "execution_count": 6,
   "id": "c1bdd7aa",
   "metadata": {},
   "outputs": [
    {
     "name": "stdout",
     "output_type": "stream",
     "text": [
      "True and True :  True\n",
      "True and False :  False\n",
      "False and True :  False\n",
      "False and False :  False\n",
      "True or True :  True\n",
      "True or False :  True\n",
      "False or True :  True\n",
      "False or False :  False\n"
     ]
    }
   ],
   "source": [
    "# 3. Make a list of each Boolean operator's truth tables \n",
    "# (i.e. every possible combination of Boolean values for the operator and what it evaluate ).\n",
    "\n",
    "print (\"True and True : \", True and True )\n",
    "\n",
    "print (\"True and False : \" , True and False)\n",
    "\n",
    "print (\"False and True : \" ,False and True )\n",
    "\n",
    "print (\"False and False : \" , False and False )\n",
    "\n",
    "print (\"True or True : \" , True or True )\n",
    "\n",
    "print (\"True or False : \" , True or False )\n",
    "\n",
    "print ( \"False or True : \" , False or True )\n",
    "\n",
    "print ( \"False or False : \" ,False or False )"
   ]
  },
  {
   "cell_type": "code",
   "execution_count": 2,
   "id": "8c2d3545",
   "metadata": {},
   "outputs": [
    {
     "name": "stdout",
     "output_type": "stream",
     "text": [
      "(5 > 4) and (3 == 5) :  False\n",
      "not (5 > 4) False\n",
      "(5 > 4) or (3 == 5) :  True\n",
      "not ((5 > 4) or (3 == 5) :  False\n",
      "(True and True) and (True == False) :  False\n",
      "(not False) or (not True) :  True\n"
     ]
    }
   ],
   "source": [
    "#4. What are the values of the following expressions?\n",
    "print (\"(5 > 4) and (3 == 5) : \", (5 > 4) and (3 == 5))\n",
    "print(\"not (5 > 4)\" , not (5 > 4) )\n",
    "print(\"(5 > 4) or (3 == 5) : \" , (5 > 4) or (3 == 5))\n",
    "print(\"not ((5 > 4) or (3 == 5) : \" , not ((5 > 4) or (3 == 5)))\n",
    "print(\"(True and True) and (True == False) : \" , str((True and True) and (True == False)))\n",
    "print(\"(not False) or (not True) : \" , str((not False) or (not True)))\n"
   ]
  },
  {
   "cell_type": "code",
   "execution_count": 18,
   "id": "cf9ca599",
   "metadata": {},
   "outputs": [
    {
     "name": "stdout",
     "output_type": "stream",
     "text": [
      "six comparison operators :  == , <= , >= , != , >, < \n"
     ]
    }
   ],
   "source": [
    "\n",
    "#5. What are the six comparison operators?\n",
    "\n",
    "print( \"six comparison operators : \" , \"== , <= , >= , != , >, < \")\n"
   ]
  },
  {
   "cell_type": "markdown",
   "id": "8edfa348",
   "metadata": {},
   "source": [
    "# 6. How do you tell the difference between the equal to and assignment operators?\n",
    "\n",
    "### Equal operator (==) is to compare two values and evaluates to a Boolean and Assignment operator ( = ) that stores a value in a variable.\n",
    "\n",
    "# Describe a condition and when you would use one.\n",
    "\n",
    "## Condition is an expression used in control flow to get a Boolean value.\n"
   ]
  },
  {
   "cell_type": "code",
   "execution_count": 5,
   "id": "ea650fff",
   "metadata": {},
   "outputs": [
    {
     "name": "stdout",
     "output_type": "stream",
     "text": [
      "ham\n",
      "spam\n",
      "spam\n"
     ]
    }
   ],
   "source": [
    "#7. Identify the three blocks in this code:\n",
    "# we have 2 if block's and 1 else block\n",
    "\n",
    "spam = 0\n",
    "if spam == 10:\n",
    "    print('eggs')\n",
    "if spam > 5:\n",
    "    print('bacon')\n",
    "else:\n",
    "    print('ham')\n",
    "    print('spam')\n",
    "    print('spam')\n"
   ]
  },
  {
   "cell_type": "code",
   "execution_count": 6,
   "id": "14a91d7e",
   "metadata": {},
   "outputs": [
    {
     "name": "stdout",
     "output_type": "stream",
     "text": [
      "Hello\n"
     ]
    }
   ],
   "source": [
    "# 8. Write code that prints Hello if 1 is stored in spam, \n",
    "# prints Howdy if 2 is stored in spam, \n",
    "# and prints Greetings! if anything else is stored in spam.\n",
    "\n",
    "spam = 1\n",
    "\n",
    "if spam ==1:\n",
    "    print('Hello')\n",
    "elif spam == 2:\n",
    "    print('Howdy')\n",
    "else:\n",
    "    print('Greetings!')\n",
    "    \n",
    "\n"
   ]
  },
  {
   "cell_type": "markdown",
   "id": "1051cc19",
   "metadata": {},
   "source": [
    "# # 9.If your programme is stuck in an endless loop, what keys you’ll press?\n",
    "\n",
    "### ctrl-C.\n"
   ]
  },
  {
   "cell_type": "code",
   "execution_count": 17,
   "id": "f644dcfe",
   "metadata": {},
   "outputs": [
    {
     "name": "stdout",
     "output_type": "stream",
     "text": [
      "0\n",
      "0\n",
      "1\n",
      "2\n",
      "3\n",
      "4\n",
      "5\n",
      "contiue\n",
      "6\n",
      "7\n",
      "8\n",
      "9\n"
     ]
    }
   ],
   "source": [
    "#10. How can you tell the difference between break and continue?\n",
    "\n",
    "##break will completly come outside the loop. please check below example \n",
    "for i in range(10):\n",
    "    print(i)\n",
    "    break\n",
    "##continue will terminate only current iteration. Please check below example\n",
    "for i in range(10):\n",
    "    print(i)\n",
    "    if(i!=5):\n",
    "        continue\n",
    "    print(\"contiue\")\n"
   ]
  },
  {
   "cell_type": "code",
   "execution_count": 9,
   "id": "90e4df80",
   "metadata": {},
   "outputs": [
    {
     "name": "stdout",
     "output_type": "stream",
     "text": [
      "[0, 1, 2, 3, 4, 5, 6, 7, 8, 9]\n",
      "[0, 1, 2, 3, 4, 5, 6, 7, 8, 9]\n",
      "[0, 1, 2, 3, 4, 5, 6, 7, 8, 9]\n"
     ]
    }
   ],
   "source": [
    "#11. In a for loop, what is the difference between range(10), range(0, 10), and range(0, 10, 1)?\n",
    "\n",
    "# There is no differenace . below is where i have executed\n",
    "\n",
    "l = list(range(10))\n",
    "k = list(range(0, 10))\n",
    "m = list(range(0, 10, 1))\n",
    "\n",
    "print(l)\n",
    "print(k)\n",
    "print(m)\n",
    "\n"
   ]
  },
  {
   "cell_type": "code",
   "execution_count": 12,
   "id": "09cdd7fc",
   "metadata": {},
   "outputs": [
    {
     "name": "stdout",
     "output_type": "stream",
     "text": [
      "1\n",
      "2\n",
      "3\n",
      "4\n",
      "5\n",
      "6\n",
      "7\n",
      "8\n",
      "9\n",
      "10\n",
      "1\n",
      "2\n",
      "3\n",
      "4\n",
      "5\n",
      "6\n",
      "7\n",
      "8\n",
      "9\n",
      "10\n"
     ]
    }
   ],
   "source": [
    "# 12. Write a short program that prints the numbers 1 to 10 using a for loop. \n",
    "# Then write an equivalent program that prints the numbers 1 to 10 using a while loop.\n",
    "\n",
    "for i in range(10):\n",
    "    print(i+1)\n",
    "\n",
    "i=0\n",
    "while i<10:\n",
    "    i= i+1\n",
    "    print(i)\n",
    "    \n"
   ]
  },
  {
   "cell_type": "markdown",
   "id": "7197422b",
   "metadata": {},
   "source": [
    "# 13. If you had a function named bacon() inside a module named spam, how would you call it after importing spam?\n",
    "\n",
    "### spam.bacon()"
   ]
  }
 ],
 "metadata": {
  "kernelspec": {
   "display_name": "Python 3 (ipykernel)",
   "language": "python",
   "name": "python3"
  },
  "language_info": {
   "codemirror_mode": {
    "name": "ipython",
    "version": 3
   },
   "file_extension": ".py",
   "mimetype": "text/x-python",
   "name": "python",
   "nbconvert_exporter": "python",
   "pygments_lexer": "ipython3",
   "version": "3.9.7"
  }
 },
 "nbformat": 4,
 "nbformat_minor": 5
}
