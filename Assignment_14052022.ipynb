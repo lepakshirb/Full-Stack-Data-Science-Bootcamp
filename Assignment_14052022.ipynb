{
 "cells": [
  {
   "cell_type": "markdown",
   "id": "2c4ea16b",
   "metadata": {},
   "source": [
    "# 1 . Try to extract data from index one to index 300 with a jump of 3"
   ]
  },
  {
   "cell_type": "code",
   "execution_count": 3,
   "id": "b39bac52",
   "metadata": {},
   "outputs": [],
   "source": [
    "S= \"Without God, no real victory is ever won. All the military victories of great conquerors have passed into history. The world might be better off without military conquerors. The real victories are won in the spiritual realm. 'He that conquers himself is greater than he who conquers a city.' The real victories are victories over sin and temptation, leading to a victorious and abundant life. Therefore, keep a brave and trusting heart. Face all your difficulties in the spirit of conquest. Remember that where God is, there is the true victory.\""
   ]
  },
  {
   "cell_type": "code",
   "execution_count": 8,
   "id": "f359a0f0",
   "metadata": {},
   "outputs": [
    {
     "data": {
      "text/plain": [
       "\"iuonevoivw   iycior qoh si t.ermt towomt qo  lciawihpt l't qsmf a n  qsc.he\""
      ]
     },
     "execution_count": 8,
     "metadata": {},
     "output_type": "execute_result"
    }
   ],
   "source": [
    "S[1: 300: 4]"
   ]
  },
  {
   "cell_type": "markdown",
   "id": "296e5442",
   "metadata": {},
   "source": [
    "# 2. Try to reverse a string without using reverse function"
   ]
  },
  {
   "cell_type": "code",
   "execution_count": 9,
   "id": "799e55b5",
   "metadata": {},
   "outputs": [
    {
     "data": {
      "text/plain": [
       "\".yrotciv eurt eht si ereht ,si doG erehw taht rebmemeR .tseuqnoc fo tirips eht ni seitluciffid ruoy lla ecaF .traeh gnitsurt dna evarb a peek ,eroferehT .efil tnadnuba dna suoirotciv a ot gnidael ,noitatpmet dna nis revo seirotciv era seirotciv laer ehT '.ytic a sreuqnoc ohw eh naht retaerg si flesmih sreuqnoc taht eH' .mlaer lautirips eht ni now era seirotciv laer ehT .sroreuqnoc yratilim tuohtiw ffo retteb eb thgim dlrow ehT .yrotsih otni dessap evah sroreuqnoc taerg fo seirotciv yratilim eht llA .now reve si yrotciv laer on ,doG tuohtiW\""
      ]
     },
     "execution_count": 9,
     "metadata": {},
     "output_type": "execute_result"
    }
   ],
   "source": [
    "S[::-1]"
   ]
  },
  {
   "cell_type": "markdown",
   "id": "79ff9936",
   "metadata": {},
   "source": [
    "# 3. Try to split a string after conversion of entire string in uppercase"
   ]
  },
  {
   "cell_type": "code",
   "execution_count": 10,
   "id": "8e816e78",
   "metadata": {},
   "outputs": [
    {
     "data": {
      "text/plain": [
       "['WITHOUT',\n",
       " 'GOD,',\n",
       " 'NO',\n",
       " 'REAL',\n",
       " 'VICTORY',\n",
       " 'IS',\n",
       " 'EVER',\n",
       " 'WON.',\n",
       " 'ALL',\n",
       " 'THE',\n",
       " 'MILITARY',\n",
       " 'VICTORIES',\n",
       " 'OF',\n",
       " 'GREAT',\n",
       " 'CONQUERORS',\n",
       " 'HAVE',\n",
       " 'PASSED',\n",
       " 'INTO',\n",
       " 'HISTORY.',\n",
       " 'THE',\n",
       " 'WORLD',\n",
       " 'MIGHT',\n",
       " 'BE',\n",
       " 'BETTER',\n",
       " 'OFF',\n",
       " 'WITHOUT',\n",
       " 'MILITARY',\n",
       " 'CONQUERORS.',\n",
       " 'THE',\n",
       " 'REAL',\n",
       " 'VICTORIES',\n",
       " 'ARE',\n",
       " 'WON',\n",
       " 'IN',\n",
       " 'THE',\n",
       " 'SPIRITUAL',\n",
       " 'REALM.',\n",
       " \"'HE\",\n",
       " 'THAT',\n",
       " 'CONQUERS',\n",
       " 'HIMSELF',\n",
       " 'IS',\n",
       " 'GREATER',\n",
       " 'THAN',\n",
       " 'HE',\n",
       " 'WHO',\n",
       " 'CONQUERS',\n",
       " 'A',\n",
       " \"CITY.'\",\n",
       " 'THE',\n",
       " 'REAL',\n",
       " 'VICTORIES',\n",
       " 'ARE',\n",
       " 'VICTORIES',\n",
       " 'OVER',\n",
       " 'SIN',\n",
       " 'AND',\n",
       " 'TEMPTATION,',\n",
       " 'LEADING',\n",
       " 'TO',\n",
       " 'A',\n",
       " 'VICTORIOUS',\n",
       " 'AND',\n",
       " 'ABUNDANT',\n",
       " 'LIFE.',\n",
       " 'THEREFORE,',\n",
       " 'KEEP',\n",
       " 'A',\n",
       " 'BRAVE',\n",
       " 'AND',\n",
       " 'TRUSTING',\n",
       " 'HEART.',\n",
       " 'FACE',\n",
       " 'ALL',\n",
       " 'YOUR',\n",
       " 'DIFFICULTIES',\n",
       " 'IN',\n",
       " 'THE',\n",
       " 'SPIRIT',\n",
       " 'OF',\n",
       " 'CONQUEST.',\n",
       " 'REMEMBER',\n",
       " 'THAT',\n",
       " 'WHERE',\n",
       " 'GOD',\n",
       " 'IS,',\n",
       " 'THERE',\n",
       " 'IS',\n",
       " 'THE',\n",
       " 'TRUE',\n",
       " 'VICTORY.']"
      ]
     },
     "execution_count": 10,
     "metadata": {},
     "output_type": "execute_result"
    }
   ],
   "source": [
    "S.upper().split(' ')"
   ]
  },
  {
   "cell_type": "markdown",
   "id": "0c336a8b",
   "metadata": {},
   "source": [
    "# 4. try to convert the whole string into lower case"
   ]
  },
  {
   "cell_type": "code",
   "execution_count": 12,
   "id": "84f54ba5",
   "metadata": {},
   "outputs": [
    {
     "data": {
      "text/plain": [
       "\"without god, no real victory is ever won. all the military victories of great conquerors have passed into history. the world might be better off without military conquerors. the real victories are won in the spiritual realm. 'he that conquers himself is greater than he who conquers a city.' the real victories are victories over sin and temptation, leading to a victorious and abundant life. therefore, keep a brave and trusting heart. face all your difficulties in the spirit of conquest. remember that where god is, there is the true victory.\""
      ]
     },
     "execution_count": 12,
     "metadata": {},
     "output_type": "execute_result"
    }
   ],
   "source": [
    "S.lower()"
   ]
  },
  {
   "cell_type": "markdown",
   "id": "f5396b2a",
   "metadata": {},
   "source": [
    "# 5 . Try to capitalize the whole string"
   ]
  },
  {
   "cell_type": "code",
   "execution_count": 29,
   "id": "15f43f73",
   "metadata": {},
   "outputs": [
    {
     "data": {
      "text/plain": [
       "\"Without god, no real victory is ever won. all the military victories of great conquerors have passed into history. the world might be better off without military conquerors. the real victories are won in the spiritual realm. 'he that conquers himself is greater than he who conquers a city.' the real victories are victories over sin and temptation, leading to a victorious and abundant life. therefore, keep a brave and trusting heart. face all your difficulties in the spirit of conquest. remember that where god is, there is the true victory.\""
      ]
     },
     "execution_count": 29,
     "metadata": {},
     "output_type": "execute_result"
    }
   ],
   "source": [
    "S.capitalize()"
   ]
  },
  {
   "cell_type": "markdown",
   "id": "978ae517",
   "metadata": {},
   "source": [
    "# 6 . Write a diference between isalnum() and isalpha()"
   ]
  },
  {
   "cell_type": "code",
   "execution_count": 28,
   "id": "56782f74",
   "metadata": {},
   "outputs": [
    {
     "name": "stdout",
     "output_type": "stream",
     "text": [
      "Is \"Bharadwaz123\" alpha numeric : True\n",
      "Is \"Bharadwaz123\" alpha numeric : False\n",
      "Is \"1234567\" alpha numeric : False\n"
     ]
    }
   ],
   "source": [
    "a =\"Bharadwaz123\"\n",
    "##isalnum will be true if a string consist of alphabets and numeric\n",
    "##isalpha will be true only if the string is full of alphabets \n",
    "print('Is \"'+ a + '\" alpha numeric : ' + str(a.isalnum()))\n",
    "\n",
    "print('Is \"'+ a + '\" alpha numeric : ' + str(a.isalpha()))\n",
    "\n",
    "b = 'Bharadwaz'\n",
    "\n",
    "print('Is \"'+ b + '\" alpha numeric : ' + str(a.isalpha()))\n"
   ]
  },
  {
   "cell_type": "markdown",
   "id": "8f9035dc",
   "metadata": {},
   "source": [
    "# 7. Try to give an example of expand tab"
   ]
  },
  {
   "cell_type": "code",
   "execution_count": 17,
   "id": "2b5f279a",
   "metadata": {},
   "outputs": [],
   "source": [
    "s_expandtab = \"Bharadwaz\\tLepakshi\\tR\\tB\""
   ]
  },
  {
   "cell_type": "code",
   "execution_count": 18,
   "id": "e9b46b6b",
   "metadata": {},
   "outputs": [
    {
     "data": {
      "text/plain": [
       "'Bharadwaz       Lepakshi        R       B'"
      ]
     },
     "execution_count": 18,
     "metadata": {},
     "output_type": "execute_result"
    }
   ],
   "source": [
    "s_expandtab.expandtabs()"
   ]
  },
  {
   "cell_type": "markdown",
   "id": "d47f1b73",
   "metadata": {},
   "source": [
    "# 8 . Give an example of strip , lstrip and rstrip"
   ]
  },
  {
   "cell_type": "code",
   "execution_count": 13,
   "id": "759a2435",
   "metadata": {},
   "outputs": [],
   "source": [
    "s_strip = \"    Bharadwaz     \""
   ]
  },
  {
   "cell_type": "code",
   "execution_count": 14,
   "id": "490efa86",
   "metadata": {},
   "outputs": [
    {
     "data": {
      "text/plain": [
       "'Bharadwaz'"
      ]
     },
     "execution_count": 14,
     "metadata": {},
     "output_type": "execute_result"
    }
   ],
   "source": [
    "s_strip.strip()"
   ]
  },
  {
   "cell_type": "code",
   "execution_count": 15,
   "id": "8775bf5a",
   "metadata": {},
   "outputs": [
    {
     "data": {
      "text/plain": [
       "'Bharadwaz     '"
      ]
     },
     "execution_count": 15,
     "metadata": {},
     "output_type": "execute_result"
    }
   ],
   "source": [
    "s_strip.lstrip()"
   ]
  },
  {
   "cell_type": "code",
   "execution_count": 16,
   "id": "59fe56fc",
   "metadata": {},
   "outputs": [
    {
     "data": {
      "text/plain": [
       "'    Bharadwaz'"
      ]
     },
     "execution_count": 16,
     "metadata": {},
     "output_type": "execute_result"
    }
   ],
   "source": [
    "s_strip.rstrip()"
   ]
  },
  {
   "cell_type": "markdown",
   "id": "06f53dba",
   "metadata": {},
   "source": [
    "# 9. Replace a string charecter by another charector by taking your own example"
   ]
  },
  {
   "cell_type": "code",
   "execution_count": 31,
   "id": "7a5ae2ac",
   "metadata": {},
   "outputs": [
    {
     "data": {
      "text/plain": [
       "'*******Bharadwaz*******'"
      ]
     },
     "execution_count": 31,
     "metadata": {},
     "output_type": "execute_result"
    }
   ],
   "source": [
    "s_replace =\"       Bharadwaz       \"\n",
    "##replacing space with star\n",
    "s_replace.replace(' ','*')"
   ]
  },
  {
   "cell_type": "markdown",
   "id": "cf03f6cb",
   "metadata": {},
   "source": [
    "# 10 . Try to give a defination of string center function with and exmple"
   ]
  },
  {
   "cell_type": "code",
   "execution_count": 43,
   "id": "07637380",
   "metadata": {},
   "outputs": [
    {
     "data": {
      "text/plain": [
       "'*****Bharadwaz******'"
      ]
     },
     "execution_count": 43,
     "metadata": {},
     "output_type": "execute_result"
    }
   ],
   "source": [
    "##String center will make the string as center and add the specified charecter mboth the side depending on the width specified \n",
    "##In Below example string length is 9 and i have passed the width parameter as 20 and charecter as *. \n",
    "## It will concatinate 11(20 - 9) stars to the string\n",
    "stringCen =\"Bharadwaz\"\n",
    "stringCen.center(20,'*')\n",
    "\n"
   ]
  },
  {
   "cell_type": "markdown",
   "id": "188cc6fb",
   "metadata": {},
   "source": [
    "# 11 . Write your own definition of compiler and interpretor without copy paste form internet in your own language"
   ]
  },
  {
   "cell_type": "markdown",
   "id": "bd4a8532",
   "metadata": {},
   "source": [
    "#### we write the code in high level language which is understandable only by us but computer wont understand that. Computer can understand only machine code to convert high level language to machine we need compiler or interpretor\n"
   ]
  },
  {
   "cell_type": "markdown",
   "id": "975eb7d4",
   "metadata": {},
   "source": [
    "#### Compiler \n",
    "<ol>\n",
    "<li>compiler scans entire code and traslates it as mechine language  </li>\n",
    "<li>execution time is less</li>\n",
    "    </ol>"
   ]
  },
  {
   "cell_type": "markdown",
   "id": "a1d20512",
   "metadata": {},
   "source": [
    "#### Interpretor\n",
    "<ol>\n",
    "<li>Interpretor scans each line and translates it as mechine language </li>\n",
    "<li>Execution time is more</li>\n",
    "</ol>"
   ]
  },
  {
   "cell_type": "markdown",
   "id": "4f743758",
   "metadata": {},
   "source": [
    "# 12 . Python is a interpreted of compiled language give a clear ans with your understanding\n",
    "\n",
    "Not sure "
   ]
  },
  {
   "cell_type": "markdown",
   "id": "a88cace6",
   "metadata": {},
   "source": [
    "# 13 . Try to write a usecase of python with your understanding"
   ]
  },
  {
   "cell_type": "markdown",
   "id": "96fa93f7",
   "metadata": {},
   "source": [
    "<ol>\n",
    "<li>Data Science </li>\n",
    "<li>Web Developement</li>\n",
    "<li>API creation</li>\n",
    "<li>AI</li>\n",
    "</ol>"
   ]
  }
 ],
 "metadata": {
  "kernelspec": {
   "display_name": "Python 3 (ipykernel)",
   "language": "python",
   "name": "python3"
  },
  "language_info": {
   "codemirror_mode": {
    "name": "ipython",
    "version": 3
   },
   "file_extension": ".py",
   "mimetype": "text/x-python",
   "name": "python",
   "nbconvert_exporter": "python",
   "pygments_lexer": "ipython3",
   "version": "3.9.7"
  }
 },
 "nbformat": 4,
 "nbformat_minor": 5
}
