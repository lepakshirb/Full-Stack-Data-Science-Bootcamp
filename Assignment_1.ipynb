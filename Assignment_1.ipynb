{
 "cells": [
  {
   "cell_type": "markdown",
   "id": "465edca2",
   "metadata": {},
   "source": [
    "# 1. Below are the Expressions and values"
   ]
  },
  {
   "cell_type": "markdown",
   "id": "0a533d64",
   "metadata": {},
   "source": [
    "Expressions = * , + , / ,-\n",
    "\n",
    "Values =\"hello\" , -87.8 , 6"
   ]
  },
  {
   "cell_type": "markdown",
   "id": "b3c09861",
   "metadata": {},
   "source": [
    "# 2. Differance between string and variable "
   ]
  },
  {
   "cell_type": "markdown",
   "id": "46332630",
   "metadata": {},
   "source": [
    "Variables will store the reference of the values\n",
    "\n",
    "Strings is a data type which defines the type of the data."
   ]
  },
  {
   "cell_type": "markdown",
   "id": "c17a8a5b",
   "metadata": {},
   "source": [
    "# 3. Describe three different datatypes "
   ]
  },
  {
   "cell_type": "markdown",
   "id": "ae84e820",
   "metadata": {},
   "source": [
    "String is a data type which is a collection of alpha or words\n",
    "\n",
    "List is a data type which is used to store collection of differet data types \n",
    "\n",
    "Dictionary is a data type which is used to store the data in key value format "
   ]
  },
  {
   "cell_type": "markdown",
   "id": "ebe7dbbe",
   "metadata": {},
   "source": [
    "# 4. What is an expression made up of? What do all expressions do ?"
   ]
  },
  {
   "cell_type": "markdown",
   "id": "3e51384d",
   "metadata": {},
   "source": [
    "Expressions are made up of operators , variables and values. it ill perform the action depends on the operators and provices the result value"
   ]
  },
  {
   "cell_type": "markdown",
   "id": "cbc68918",
   "metadata": {},
   "source": [
    "# 5. Differance between Expression and Statement "
   ]
  },
  {
   "cell_type": "markdown",
   "id": "ea582a41",
   "metadata": {},
   "source": [
    "Expressions are made up of operators , variables and values. it ill perform the action depends on the operators and provices the result value \n",
    "\n",
    "Statements performs the actions on command like assignment statements. "
   ]
  },
  {
   "cell_type": "markdown",
   "id": "8f0da4c9",
   "metadata": {},
   "source": [
    "# 6. What does the becon contains in below statement\n",
    "\n",
    "becon = 22\n",
    "\n",
    "becon + 1 \n",
    "\n",
    "22 is the answer"
   ]
  },
  {
   "cell_type": "code",
   "execution_count": 8,
   "id": "f78d5730",
   "metadata": {},
   "outputs": [],
   "source": [
    "becon = 22"
   ]
  },
  {
   "cell_type": "code",
   "execution_count": 9,
   "id": "7d2ff97d",
   "metadata": {},
   "outputs": [
    {
     "data": {
      "text/plain": [
       "23"
      ]
     },
     "execution_count": 9,
     "metadata": {},
     "output_type": "execute_result"
    }
   ],
   "source": [
    "becon + 1"
   ]
  },
  {
   "cell_type": "code",
   "execution_count": 10,
   "id": "e5adf8fb",
   "metadata": {},
   "outputs": [
    {
     "name": "stdout",
     "output_type": "stream",
     "text": [
      "22\n"
     ]
    }
   ],
   "source": [
    "print(becon)"
   ]
  },
  {
   "cell_type": "markdown",
   "id": "4e08c421",
   "metadata": {},
   "source": [
    "# 7. What should be the value of the following two terms \n",
    "\n",
    "'spam' + 'spamspam' = 'spamspamspam'\n",
    "\n",
    "'spam' * 3 = 'spamspamspam'\n",
    "\n",
    "Both retuns same value. Please find the below execution "
   ]
  },
  {
   "cell_type": "code",
   "execution_count": 13,
   "id": "1497b547",
   "metadata": {},
   "outputs": [
    {
     "data": {
      "text/plain": [
       "'spamspamspam'"
      ]
     },
     "execution_count": 13,
     "metadata": {},
     "output_type": "execute_result"
    }
   ],
   "source": [
    "'spam' + 'spamspam'"
   ]
  },
  {
   "cell_type": "code",
   "execution_count": 14,
   "id": "2e32688f",
   "metadata": {},
   "outputs": [
    {
     "data": {
      "text/plain": [
       "'spamspamspam'"
      ]
     },
     "execution_count": 14,
     "metadata": {},
     "output_type": "execute_result"
    }
   ],
   "source": [
    "'spam' * 3"
   ]
  },
  {
   "cell_type": "markdown",
   "id": "596862d3",
   "metadata": {},
   "source": [
    "# 8. Why is eggs a valid variable and 100 is invalid\n",
    "\n",
    "Variable name should be a string not to be numbers\n",
    "\n",
    "eggs is a string and 100 is a number"
   ]
  }
 ],
 "metadata": {
  "kernelspec": {
   "display_name": "Python 3 (ipykernel)",
   "language": "python",
   "name": "python3"
  },
  "language_info": {
   "codemirror_mode": {
    "name": "ipython",
    "version": 3
   },
   "file_extension": ".py",
   "mimetype": "text/x-python",
   "name": "python",
   "nbconvert_exporter": "python",
   "pygments_lexer": "ipython3",
   "version": "3.9.7"
  }
 },
 "nbformat": 4,
 "nbformat_minor": 5
}
