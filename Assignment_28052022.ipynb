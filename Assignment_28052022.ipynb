{
 "cells": [
  {
   "cell_type": "code",
   "execution_count": 6,
   "id": "518bdec1",
   "metadata": {},
   "outputs": [
    {
     "name": "stdout",
     "output_type": "stream",
     "text": [
      "ineuron \n",
      "\n",
      "ineuron ineuron \n",
      "\n",
      "ineuron ineuron ineuron \n",
      "\n",
      "ineuron ineuron ineuron ineuron \n",
      "\n"
     ]
    }
   ],
   "source": [
    "n = 4\n",
    "\n",
    "for i in range(4):\n",
    "    for j in range(0, i+1):\n",
    "        print('ineuron' , end = \" \")\n",
    "    print(\"\\n\")"
   ]
  },
  {
   "cell_type": "code",
   "execution_count": 87,
   "id": "928733cd",
   "metadata": {},
   "outputs": [
    {
     "name": "stdout",
     "output_type": "stream",
     "text": [
      "                ineuron \n",
      "\n",
      "        ineuron ineuron ineuron \n",
      "\n",
      "ineuron ineuron ineuron ineuron ineuron \n",
      "\n",
      "ineuron ineuron ineuron ineuron ineuron \n",
      "\n",
      "        ineuron ineuron ineuron \n",
      "\n",
      "                ineuron \n",
      "\n"
     ]
    }
   ],
   "source": [
    "n = 3\n",
    "for i in range(n):\n",
    "    for j in range (i, n-1):\n",
    "            print (\" \" * len(\"ineuron\") , end=\" \")\n",
    "    for j in range(i+1):\n",
    "        print (\"ineuron\" , end=\" \")\n",
    "    for j in range(i):\n",
    "        print (\"ineuron\", end=\" \")\n",
    "    print(\"\\n\")\n",
    "rows = n-1\n",
    "k = rows - 2\n",
    "for i in range(rows, -1, -1):\n",
    "    for j in range(k, 0, -1):\n",
    "        print(\" \" * len(\"ineuron\") , end=\" \")\n",
    "    k = k + 1\n",
    "    for j in range(0, i + 1):\n",
    "        print(\"ineuron\", end=\" \")\n",
    "    for j in range(i):\n",
    "        print (\"ineuron\", end=\" \")\n",
    "    print(\"\\n\")\n"
   ]
  },
  {
   "cell_type": "code",
   "execution_count": 88,
   "id": "695a8ff3",
   "metadata": {},
   "outputs": [],
   "source": [
    "l = [[1,2,3,4],(2,3,4,5,6),(3,4,5,6,7),set([23,4,5,45,4,4,5,45,45,4,5]),\n",
    "     {'k1':\"bharadwaz\" ,'k2' : \"ineuron\" ,'k3' : \"lepakshi\" , 3:6, 7:8} ,[\"ineuron\",\"data science\"]]"
   ]
  },
  {
   "cell_type": "code",
   "execution_count": 93,
   "id": "0e696246",
   "metadata": {},
   "outputs": [
    {
     "name": "stdout",
     "output_type": "stream",
     "text": [
      "[[1, 2, 3, 4], ['ineuron', 'data science']]\n"
     ]
    }
   ],
   "source": [
    "#Try to find all the list entity\n",
    "l_List =[]\n",
    "for i in l:\n",
    "    if(type(i) == list):\n",
    "        l_List.append(i)\n",
    "print(l_List)\n",
    "    "
   ]
  },
  {
   "cell_type": "code",
   "execution_count": 94,
   "id": "90f15eae",
   "metadata": {},
   "outputs": [
    {
     "name": "stdout",
     "output_type": "stream",
     "text": [
      "{'k1': 'bharadwaz', 'k2': 'ineuron', 'k3': 'lepakshi', 3: 6, 7: 8}\n"
     ]
    }
   ],
   "source": [
    "### Try to find all the dict entities\n",
    "l_dict ={}\n",
    "for i in l:\n",
    "    if(type(i) == dict):\n",
    "        l_dict.update(i)\n",
    "print(l_dict)"
   ]
  },
  {
   "cell_type": "code",
   "execution_count": 96,
   "id": "861c0c35",
   "metadata": {},
   "outputs": [
    {
     "name": "stdout",
     "output_type": "stream",
     "text": [
      "[(2, 3, 4, 5, 6), (3, 4, 5, 6, 7)]\n"
     ]
    }
   ],
   "source": [
    "### Try to find all the tuple entities\n",
    "l_tuple =[]\n",
    "for i in l:\n",
    "    if(type(i) == tuple):\n",
    "        l_tuple.append(i)\n",
    "print(l_tuple)"
   ]
  },
  {
   "cell_type": "code",
   "execution_count": 117,
   "id": "704e6075",
   "metadata": {},
   "outputs": [
    {
     "name": "stdout",
     "output_type": "stream",
     "text": [
      "[1, 2, 3, 4, 2, 3, 4, 5, 6, 3, 4, 5, 6, 7, 45, 4, 5, 23, 3, 6, 7, 8]\n"
     ]
    }
   ],
   "source": [
    "## Try to extract all the numeric data it may be a part of dict key and values \n",
    "l_number=[]\n",
    "\n",
    "for i in l:\n",
    "    if (type(i) == list or type(i) == tuple or type(i) == set):  \n",
    "        for j in i:\n",
    "                if (type(j) == int):\n",
    "                    l_number.append(j)\n",
    "    elif(type(i) == dict):\n",
    "        for k in i:\n",
    "            if (type(k) == int):\n",
    "                l_number.append(k)\n",
    "            if(type(i[k]) == int):\n",
    "                l_number.append(i[k])\n",
    "print(l_number)\n",
    "            \n",
    "         \n",
    "       "
   ]
  },
  {
   "cell_type": "code",
   "execution_count": 119,
   "id": "7b93615f",
   "metadata": {},
   "outputs": [
    {
     "name": "stdout",
     "output_type": "stream",
     "text": [
      "156\n"
     ]
    }
   ],
   "source": [
    "#Try to give summation of all the numeric data\n",
    "l_Sum =0\n",
    "for i in l_number:\n",
    "    l_Sum= l_Sum + i\n",
    "print(l_Sum)"
   ]
  },
  {
   "cell_type": "code",
   "execution_count": 125,
   "id": "c5e92549",
   "metadata": {},
   "outputs": [
    {
     "name": "stdout",
     "output_type": "stream",
     "text": [
      "[1, 3]\n"
     ]
    }
   ],
   "source": [
    "#Try to extract all the odd values part of list\n",
    "l_Odd =[]\n",
    "for i in l_List:\n",
    "    for j in i:\n",
    "        if(type(j) == int and j%2!=0):\n",
    "            l_Odd.append(j)\n",
    "print(l_Odd)"
   ]
  },
  {
   "cell_type": "code",
   "execution_count": 130,
   "id": "405a596b",
   "metadata": {},
   "outputs": [
    {
     "name": "stdout",
     "output_type": "stream",
     "text": [
      "['ineuron', 'ineuron']\n"
     ]
    }
   ],
   "source": [
    "#Try to extract 'ineuron' out of this data\n",
    "l_inueron=[]\n",
    "\n",
    "for i in l:\n",
    "    if (type(i) == list or type(i) == tuple or type(i) == set):  \n",
    "        for j in i:\n",
    "                if (j == 'ineuron'):\n",
    "                    l_inueron.append(j)\n",
    "    else:\n",
    "        for k in i:\n",
    "            if(i[k] == 'ineuron'):\n",
    "                l_inueron.append(i[k])\n",
    "print(l_inueron)"
   ]
  },
  {
   "cell_type": "code",
   "execution_count": 153,
   "id": "093ddeae",
   "metadata": {},
   "outputs": [
    {
     "name": "stdout",
     "output_type": "stream",
     "text": [
      " Number of occurance of 1 is 1\n",
      "\n",
      "\n",
      " Number of occurance of 2 is 2\n",
      "\n",
      "\n",
      " Number of occurance of 3 is 4\n",
      "\n",
      "\n",
      " Number of occurance of 4 is 4\n",
      "\n",
      "\n",
      " Number of occurance of 5 is 3\n",
      "\n",
      "\n",
      " Number of occurance of 6 is 3\n",
      "\n",
      "\n",
      " Number of occurance of 7 is 2\n",
      "\n",
      "\n",
      " Number of occurance of k1 is 1\n",
      "\n",
      "\n",
      " Number of occurance of ineuron is 2\n",
      "\n",
      "\n",
      " Number of occurance of 8 is 1\n",
      "\n",
      "\n",
      " Number of occurance of 45 is 1\n",
      "\n",
      "\n",
      " Number of occurance of k2 is 1\n",
      "\n",
      "\n",
      " Number of occurance of lepakshi is 1\n",
      "\n",
      "\n",
      " Number of occurance of 23 is 1\n",
      "\n",
      "\n",
      " Number of occurance of bharadwaz is 1\n",
      "\n",
      "\n",
      " Number of occurance of k3 is 1\n",
      "\n",
      "\n",
      " Number of occurance of data science is 1\n",
      "\n",
      "\n"
     ]
    }
   ],
   "source": [
    "# Try to find a number of occurnace of all the data \n",
    "l_EntireData=[]\n",
    "for i in l:\n",
    "    if(type(i)== dict):\n",
    "        for j in i:\n",
    "            l_EntireData.append(j)\n",
    "            l_EntireData.append(i[j])\n",
    "    else:\n",
    "        for j in i:\n",
    "            l_EntireData.append(j)\n",
    "\n",
    "for i in set(l_EntireData):\n",
    "    print(' Number of occurance of '+ str(i)  +' is ' + str(l_EntireData.count(i)))\n",
    "    print('\\n')"
   ]
  },
  {
   "cell_type": "code",
   "execution_count": 161,
   "id": "4708abb1",
   "metadata": {},
   "outputs": [
    {
     "name": "stdout",
     "output_type": "stream",
     "text": [
      "Number of keys in dictionary element is : 5\n"
     ]
    }
   ],
   "source": [
    "#Try to find the number of keys in dictionary element\n",
    "count = 0\n",
    "for i in l_dict.keys():\n",
    "    count = count + 1\n",
    "print(\"Number of keys in dictionary element is : \" + str(count))"
   ]
  },
  {
   "cell_type": "code",
   "execution_count": 166,
   "id": "a4ed4307",
   "metadata": {},
   "outputs": [
    {
     "name": "stdout",
     "output_type": "stream",
     "text": [
      "['k1', 'bharadwaz', 'k2', 'ineuron', 'k3', 'lepakshi', 'ineuron', 'data science']\n"
     ]
    }
   ],
   "source": [
    "#Try to filter of out all the string data\n",
    "l_str =[]\n",
    "for i in l_EntireData:\n",
    "    if type(i) == str:\n",
    "        l_str.append(i)\n",
    "print(l_str)"
   ]
  },
  {
   "cell_type": "code",
   "execution_count": 181,
   "id": "72b3d6ba",
   "metadata": {},
   "outputs": [
    {
     "name": "stdout",
     "output_type": "stream",
     "text": [
      "['k1', 'bharadwaz', 'k2', 'ineuron', 'k3', 'lepakshi', 'ineuron']\n"
     ]
    }
   ],
   "source": [
    "#try to get all the alphanumeric \n",
    "l_alphaNum =[]\n",
    "for i in l_str:\n",
    "    if i.isalnum() == True:\n",
    "        l_alphaNum.append(i)\n",
    "print(l_alphaNum)"
   ]
  },
  {
   "cell_type": "code",
   "execution_count": 183,
   "id": "fc103e5d",
   "metadata": {},
   "outputs": [
    {
     "name": "stdout",
     "output_type": "stream",
     "text": [
      "908605071360000\n"
     ]
    }
   ],
   "source": [
    "#try to find out all the multiplication of numeric numbers\n",
    "l_Multiply=1\n",
    "for i in l_number:\n",
    "    l_Multiply = l_Multiply * i\n",
    "    \n",
    "print(l_Multiply)"
   ]
  },
  {
   "cell_type": "code",
   "execution_count": 184,
   "id": "e8bbeb1f",
   "metadata": {},
   "outputs": [
    {
     "name": "stdout",
     "output_type": "stream",
     "text": [
      "[1, 2, 3, 4, 2, 3, 4, 5, 6, 3, 4, 5, 6, 7, 45, 4, 5, 23, 'bharadwaz', 'ineuron', 'lepakshi', 6, 8, 'ineuron', 'data science']\n"
     ]
    }
   ],
   "source": [
    "#Try to unwrap all the collections and create a list \n",
    "\n",
    "l_EntireValue=[]\n",
    "for i in l:\n",
    "    if(type(i)== dict):\n",
    "        for j in i:\n",
    "            l_EntireValue.append(i[j])\n",
    "    else:\n",
    "        for j in i:\n",
    "            l_EntireValue.append(j)\n",
    "            \n",
    "print(l_EntireValue)"
   ]
  }
 ],
 "metadata": {
  "kernelspec": {
   "display_name": "Python 3 (ipykernel)",
   "language": "python",
   "name": "python3"
  },
  "language_info": {
   "codemirror_mode": {
    "name": "ipython",
    "version": 3
   },
   "file_extension": ".py",
   "mimetype": "text/x-python",
   "name": "python",
   "nbconvert_exporter": "python",
   "pygments_lexer": "ipython3",
   "version": "3.9.7"
  }
 },
 "nbformat": 4,
 "nbformat_minor": 5
}
